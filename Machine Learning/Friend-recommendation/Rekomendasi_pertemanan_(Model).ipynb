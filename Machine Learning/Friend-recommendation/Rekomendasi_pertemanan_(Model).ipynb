{
  "nbformat": 4,
  "nbformat_minor": 0,
  "metadata": {
    "colab": {
      "provenance": []
    },
    "kernelspec": {
      "name": "python3",
      "display_name": "Python 3"
    },
    "language_info": {
      "name": "python"
    }
  },
  "cells": [
    {
      "cell_type": "markdown",
      "source": [
        "# Friends Recommendation Model"
      ],
      "metadata": {
        "id": "_X2L8ZzSfcWZ"
      }
    },
    {
      "cell_type": "code",
      "source": [
        "import pandas as pd"
      ],
      "metadata": {
        "id": "dIgocfzSfhFQ"
      },
      "execution_count": null,
      "outputs": []
    },
    {
      "cell_type": "code",
      "source": [
        "df = pd.read_csv(\"/content/Data generated.csv\")"
      ],
      "metadata": {
        "id": "RDKAbazSu7xx"
      },
      "execution_count": null,
      "outputs": []
    },
    {
      "cell_type": "code",
      "source": [
        "data = pd.DataFrame({'userid':df['userid'],'instansi':df['instansi'],'pekerjaan':df['pekerjaan'],'domisili':df['domisili'],'hobi':df['hobi']})"
      ],
      "metadata": {
        "id": "RNeqmR6C9gw8"
      },
      "execution_count": null,
      "outputs": []
    },
    {
      "cell_type": "code",
      "source": [
        "data.head()"
      ],
      "metadata": {
        "colab": {
          "base_uri": "https://localhost:8080/",
          "height": 206
        },
        "id": "MNrdAYSUvS9W",
        "outputId": "8a291c43-87d1-476d-dc83-d2b6b44c3b07"
      },
      "execution_count": null,
      "outputs": [
        {
          "output_type": "execute_result",
          "data": {
            "text/plain": [
              "   userid                        instansi       pekerjaan  \\\n",
              "0   61377           Universitas Gunadarma  Content writer   \n",
              "1   16429     Universitas Andalas (UNAND)    Data analyst   \n",
              "2   27812  Universitas Negeri Malang (UM)         Blogger   \n",
              "3   30786      Universitas Udayana (UNUD)   Web developer   \n",
              "4   76660                           SMA A    Data analyst   \n",
              "\n",
              "                domisili                hobi  \n",
              "0          Kota Magelang         Programming  \n",
              "1    Kabupaten Bangkalan            Menonton  \n",
              "2             Kota Bogor            Menonton  \n",
              "3    Kabupaten Situbondo  Mendengarkan musik  \n",
              "4  Kabupaten Tulungagung            Olahraga  "
            ],
            "text/html": [
              "\n",
              "  <div id=\"df-80376e2f-af56-4e51-ba36-112064c3e22b\">\n",
              "    <div class=\"colab-df-container\">\n",
              "      <div>\n",
              "<style scoped>\n",
              "    .dataframe tbody tr th:only-of-type {\n",
              "        vertical-align: middle;\n",
              "    }\n",
              "\n",
              "    .dataframe tbody tr th {\n",
              "        vertical-align: top;\n",
              "    }\n",
              "\n",
              "    .dataframe thead th {\n",
              "        text-align: right;\n",
              "    }\n",
              "</style>\n",
              "<table border=\"1\" class=\"dataframe\">\n",
              "  <thead>\n",
              "    <tr style=\"text-align: right;\">\n",
              "      <th></th>\n",
              "      <th>userid</th>\n",
              "      <th>instansi</th>\n",
              "      <th>pekerjaan</th>\n",
              "      <th>domisili</th>\n",
              "      <th>hobi</th>\n",
              "    </tr>\n",
              "  </thead>\n",
              "  <tbody>\n",
              "    <tr>\n",
              "      <th>0</th>\n",
              "      <td>61377</td>\n",
              "      <td>Universitas Gunadarma</td>\n",
              "      <td>Content writer</td>\n",
              "      <td>Kota Magelang</td>\n",
              "      <td>Programming</td>\n",
              "    </tr>\n",
              "    <tr>\n",
              "      <th>1</th>\n",
              "      <td>16429</td>\n",
              "      <td>Universitas Andalas (UNAND)</td>\n",
              "      <td>Data analyst</td>\n",
              "      <td>Kabupaten Bangkalan</td>\n",
              "      <td>Menonton</td>\n",
              "    </tr>\n",
              "    <tr>\n",
              "      <th>2</th>\n",
              "      <td>27812</td>\n",
              "      <td>Universitas Negeri Malang (UM)</td>\n",
              "      <td>Blogger</td>\n",
              "      <td>Kota Bogor</td>\n",
              "      <td>Menonton</td>\n",
              "    </tr>\n",
              "    <tr>\n",
              "      <th>3</th>\n",
              "      <td>30786</td>\n",
              "      <td>Universitas Udayana (UNUD)</td>\n",
              "      <td>Web developer</td>\n",
              "      <td>Kabupaten Situbondo</td>\n",
              "      <td>Mendengarkan musik</td>\n",
              "    </tr>\n",
              "    <tr>\n",
              "      <th>4</th>\n",
              "      <td>76660</td>\n",
              "      <td>SMA A</td>\n",
              "      <td>Data analyst</td>\n",
              "      <td>Kabupaten Tulungagung</td>\n",
              "      <td>Olahraga</td>\n",
              "    </tr>\n",
              "  </tbody>\n",
              "</table>\n",
              "</div>\n",
              "      <button class=\"colab-df-convert\" onclick=\"convertToInteractive('df-80376e2f-af56-4e51-ba36-112064c3e22b')\"\n",
              "              title=\"Convert this dataframe to an interactive table.\"\n",
              "              style=\"display:none;\">\n",
              "        \n",
              "  <svg xmlns=\"http://www.w3.org/2000/svg\" height=\"24px\"viewBox=\"0 0 24 24\"\n",
              "       width=\"24px\">\n",
              "    <path d=\"M0 0h24v24H0V0z\" fill=\"none\"/>\n",
              "    <path d=\"M18.56 5.44l.94 2.06.94-2.06 2.06-.94-2.06-.94-.94-2.06-.94 2.06-2.06.94zm-11 1L8.5 8.5l.94-2.06 2.06-.94-2.06-.94L8.5 2.5l-.94 2.06-2.06.94zm10 10l.94 2.06.94-2.06 2.06-.94-2.06-.94-.94-2.06-.94 2.06-2.06.94z\"/><path d=\"M17.41 7.96l-1.37-1.37c-.4-.4-.92-.59-1.43-.59-.52 0-1.04.2-1.43.59L10.3 9.45l-7.72 7.72c-.78.78-.78 2.05 0 2.83L4 21.41c.39.39.9.59 1.41.59.51 0 1.02-.2 1.41-.59l7.78-7.78 2.81-2.81c.8-.78.8-2.07 0-2.86zM5.41 20L4 18.59l7.72-7.72 1.47 1.35L5.41 20z\"/>\n",
              "  </svg>\n",
              "      </button>\n",
              "      \n",
              "  <style>\n",
              "    .colab-df-container {\n",
              "      display:flex;\n",
              "      flex-wrap:wrap;\n",
              "      gap: 12px;\n",
              "    }\n",
              "\n",
              "    .colab-df-convert {\n",
              "      background-color: #E8F0FE;\n",
              "      border: none;\n",
              "      border-radius: 50%;\n",
              "      cursor: pointer;\n",
              "      display: none;\n",
              "      fill: #1967D2;\n",
              "      height: 32px;\n",
              "      padding: 0 0 0 0;\n",
              "      width: 32px;\n",
              "    }\n",
              "\n",
              "    .colab-df-convert:hover {\n",
              "      background-color: #E2EBFA;\n",
              "      box-shadow: 0px 1px 2px rgba(60, 64, 67, 0.3), 0px 1px 3px 1px rgba(60, 64, 67, 0.15);\n",
              "      fill: #174EA6;\n",
              "    }\n",
              "\n",
              "    [theme=dark] .colab-df-convert {\n",
              "      background-color: #3B4455;\n",
              "      fill: #D2E3FC;\n",
              "    }\n",
              "\n",
              "    [theme=dark] .colab-df-convert:hover {\n",
              "      background-color: #434B5C;\n",
              "      box-shadow: 0px 1px 3px 1px rgba(0, 0, 0, 0.15);\n",
              "      filter: drop-shadow(0px 1px 2px rgba(0, 0, 0, 0.3));\n",
              "      fill: #FFFFFF;\n",
              "    }\n",
              "  </style>\n",
              "\n",
              "      <script>\n",
              "        const buttonEl =\n",
              "          document.querySelector('#df-80376e2f-af56-4e51-ba36-112064c3e22b button.colab-df-convert');\n",
              "        buttonEl.style.display =\n",
              "          google.colab.kernel.accessAllowed ? 'block' : 'none';\n",
              "\n",
              "        async function convertToInteractive(key) {\n",
              "          const element = document.querySelector('#df-80376e2f-af56-4e51-ba36-112064c3e22b');\n",
              "          const dataTable =\n",
              "            await google.colab.kernel.invokeFunction('convertToInteractive',\n",
              "                                                     [key], {});\n",
              "          if (!dataTable) return;\n",
              "\n",
              "          const docLinkHtml = 'Like what you see? Visit the ' +\n",
              "            '<a target=\"_blank\" href=https://colab.research.google.com/notebooks/data_table.ipynb>data table notebook</a>'\n",
              "            + ' to learn more about interactive tables.';\n",
              "          element.innerHTML = '';\n",
              "          dataTable['output_type'] = 'display_data';\n",
              "          await google.colab.output.renderOutput(dataTable, element);\n",
              "          const docLink = document.createElement('div');\n",
              "          docLink.innerHTML = docLinkHtml;\n",
              "          element.appendChild(docLink);\n",
              "        }\n",
              "      </script>\n",
              "    </div>\n",
              "  </div>\n",
              "  "
            ]
          },
          "metadata": {},
          "execution_count": 4
        }
      ]
    },
    {
      "cell_type": "code",
      "source": [
        "def recommend_friends(user):\n",
        "    #define the variables\n",
        "    similar_users = []\n",
        "    similar_instansi = []\n",
        "    similar_pekerjaan = []\n",
        "    similar_domisili = []\n",
        "    similar_hobi = []\n",
        "    userPreferences = {}\n",
        "\n",
        "    #input value to userPreferences according to the user that matched with userid in data\n",
        "    userPreferences['instansi'] = data[data['userid'] == user]['instansi'].values[0]\n",
        "    userPreferences['pekerjaan'] = data[data['userid'] == user]['pekerjaan'].values[0]\n",
        "    userPreferences['domisili'] = data[data['userid'] == user]['domisili'].values[0]\n",
        "    userPreferences['hobi'] = data[data['userid'] == user]['hobi'].values[0]\n",
        "\n",
        "    #iterate through data index 0 up to length of data and find similarities between user and others\n",
        "    for i in range(len(data)):\n",
        "        if (data['userid'][i] != user) and (\n",
        "                data['instansi'][i] == userPreferences['instansi'] or\n",
        "                data['pekerjaan'][i] == userPreferences['pekerjaan'] or\n",
        "                data['domisili'][i] == userPreferences['domisili'] or\n",
        "                data['hobi'][i] == userPreferences['hobi']):\n",
        "            similar_users.append(data['userid'][i])\n",
        "\n",
        "        if data['userid'][i] != user and data['instansi'][i] == userPreferences['instansi']:\n",
        "            similar_instansi.append(data['userid'][i])\n",
        "        if data['userid'][i] != user and data['pekerjaan'][i] == userPreferences['pekerjaan']:\n",
        "            similar_pekerjaan.append(data['userid'][i])\n",
        "        if data['userid'][i] != user and data['domisili'][i] == userPreferences['domisili']:\n",
        "            similar_domisili.append(data['userid'][i])\n",
        "        if data['userid'][i] != user and data['hobi'][i] == userPreferences['hobi']:\n",
        "            similar_hobi.append(data['userid'][i])\n",
        "\n",
        "    #print function output\n",
        "    print(f\"{user} : {userPreferences}\")\n",
        "    print(f\"Friends Recommendation for {user} : {similar_users}\")\n",
        "    print(f\"Same Agency/Institute with {user} : {similar_instansi}\")\n",
        "    print(f\"Same occupation with {user} : {similar_pekerjaan}\")\n",
        "    print(f\"Same area with {user} : {similar_domisili}\")\n",
        "    print(f\"Same hobby with {user} : {similar_hobi}\")"
      ],
      "metadata": {
        "id": "luwE71-WDVKj"
      },
      "execution_count": null,
      "outputs": []
    },
    {
      "cell_type": "code",
      "source": [
        "recommend_friends(61377)"
      ],
      "metadata": {
        "colab": {
          "base_uri": "https://localhost:8080/"
        },
        "id": "HlYCnNO3DjGD",
        "outputId": "90aa7fde-c776-47c0-e893-3339f365cf26"
      },
      "execution_count": null,
      "outputs": [
        {
          "output_type": "stream",
          "name": "stdout",
          "text": [
            "61377 : {'instansi': 'Universitas Gunadarma', 'pekerjaan': 'Content writer', 'domisili': 'Kota Magelang', 'hobi': 'Programming'}\n",
            "Friends Recommendation for 61377 : [10476, 55312, 66464, 39505, 240, 37574, 8931, 21673, 55384, 58335, 61888, 27369, 31774, 67267, 9957, 90961, 82543, 16101, 32621, 68193, 48435, 30411, 65223, 728, 76225, 97566, 45135, 3136, 34352, 80381, 19516, 35554, 57163, 74874, 45688, 95853, 15389, 91257, 47498, 64416, 57695, 68263, 64917, 55683, 67719, 98854, 85416, 15316, 32933, 58651, 114, 14156, 91340, 6758, 44718, 93143, 23226, 90882, 66304, 4562, 33595, 85456, 93924, 34132, 21002, 93699, 14631, 70433, 34405, 92019, 61745, 51378, 95175, 69712, 48709, 89363, 63762, 78670, 61567, 76323, 19937, 75163, 88364, 70927, 42023, 43361, 47576, 89127, 38110, 98773, 6688, 28955, 15264, 32282, 72507, 17350, 76179, 93754, 65624, 81057, 61736, 67055, 14696, 70204, 32097, 49503, 10727, 51613, 69854, 78172, 23348, 64073, 29391, 80139, 7891, 5542, 76614, 79886, 2094, 75274, 92358, 20950, 8647, 8230, 50505, 46682, 71498, 38050, 30920, 69359, 32313, 59835, 76194, 50456, 2288, 49168, 96792, 7784, 45710, 76658, 98419, 52359, 33374, 45998, 13567]\n",
            "Same Agency/Institute with 61377 : [55312, 37574, 16101, 728, 76225, 68263, 98854, 32933, 85456, 70433, 34405, 69712, 48709, 78670, 47576, 15264, 72507, 17350, 70204, 32097, 5542, 2094, 75274, 8647, 50505, 46682, 30920, 50456, 7784, 76658, 13567]\n",
            "Same occupation with 61377 : [66464, 39505, 37574, 8931, 61888, 67267, 90961, 82543, 68193, 48435, 30411, 65223, 19516, 45688, 95853, 15389, 57695, 68263, 55683, 67719, 85416, 58651, 114, 14156, 90882, 4562, 33595, 34132, 34405, 92019, 51378, 69712, 89363, 63762, 19937, 75163, 70927, 42023, 38110, 6688, 28955, 76179, 65624, 61736, 14696, 70204, 49503, 10727, 51613, 78172, 64073, 29391, 80139, 7891, 76614, 20950, 71498, 30920, 69359, 76194, 50456, 96792, 45710, 52359, 33374, 45998]\n",
            "Same area with 61377 : [27369, 57163, 14631, 95175, 81057]\n",
            "Same hobby with 61377 : [10476, 240, 21673, 55384, 58335, 31774, 9957, 32621, 65223, 97566, 45135, 3136, 34352, 80381, 35554, 74874, 91257, 47498, 64416, 64917, 15316, 91340, 6758, 44718, 93143, 23226, 66304, 93924, 21002, 93699, 61745, 61567, 76323, 88364, 43361, 89127, 98773, 32282, 93754, 67055, 69854, 23348, 79886, 92358, 8230, 38050, 30920, 32313, 59835, 2288, 49168, 98419, 13567]\n"
          ]
        }
      ]
    },
    {
      "cell_type": "code",
      "source": [
        "recommend_friends(16429)"
      ],
      "metadata": {
        "colab": {
          "base_uri": "https://localhost:8080/"
        },
        "id": "axcdovxiQzQ2",
        "outputId": "84160115-c8fe-46b9-c3d0-38f445b2d7d2"
      },
      "execution_count": null,
      "outputs": [
        {
          "output_type": "stream",
          "name": "stdout",
          "text": [
            "16429 : {'instansi': 'Universitas Andalas (UNAND)', 'pekerjaan': 'Data analyst', 'domisili': 'Kabupaten Bangkalan', 'hobi': 'Menonton'}\n",
            "Friends Recommendation for 16429 : [27812, 76660, 93248, 5492, 53003, 90161, 240, 37574, 28423, 19970, 84635, 20838, 26560, 30012, 15199, 31180, 33127, 20532, 92130, 12523, 28136, 87333, 50615, 86858, 20395, 34532, 25792, 728, 80493, 17852, 44972, 55136, 69090, 89850, 98561, 26134, 85759, 34394, 70313, 95022, 37167, 1054, 26792, 67561, 81263, 40985, 25298, 58504, 49703, 57695, 11952, 83025, 33345, 55220, 33905, 65837, 11790, 66722, 35747, 26635, 93559, 7171, 15110, 79777, 85456, 51003, 6596, 28171, 79144, 70433, 60546, 66822, 28653, 9822, 76963, 38998, 19790, 12416, 47364, 74307, 76323, 83527, 39892, 34001, 92400, 79029, 90730, 17772, 59720, 87619, 27539, 5183, 92700, 35434, 49220, 54446, 79322, 83367, 47576, 40389, 95121, 85158, 79019, 66433, 92005, 26319, 31951, 15820, 1379, 32097, 16133, 12891, 96547, 23348, 57465, 78441, 5196, 37322, 2094, 35791, 19207, 23594, 12998, 62563, 45420, 26361, 7906, 68632, 59196, 68859, 38050, 84383, 91756, 88819, 78951, 69289, 1999, 10809, 41018, 2288, 72211, 77732, 14250, 53041, 98419, 57477, 82670, 95774, 80796]\n",
            "Same Agency/Institute with 16429 : [5492, 84635, 26560, 33127, 92130, 85759, 95022, 37167, 1054, 40985, 25298, 33905, 11790, 79777, 79144, 66822, 12416, 47364, 39892, 16133, 62563, 80796]\n",
            "Same occupation with 16429 : [76660, 240, 28423, 20838, 15199, 33127, 28136, 87333, 20395, 25792, 80493, 17852, 44972, 69090, 89850, 98561, 26134, 34394, 70313, 67561, 81263, 58504, 49703, 11952, 83025, 65837, 11790, 35747, 26635, 7171, 51003, 6596, 28171, 70433, 60546, 76963, 38998, 19790, 47364, 76323, 92400, 79029, 17772, 59720, 27539, 5183, 49220, 79322, 83367, 40389, 95121, 66433, 31951, 15820, 23348, 78441, 5196, 37322, 2094, 35791, 19207, 23594, 7906, 59196, 91756, 69289, 1999, 10809, 41018, 2288, 72211, 77732, 98419, 57477, 95774]\n",
            "Same area with 16429 : [31180, 50615, 57695, 55220, 28653, 83527, 26319, 32097, 35791, 12998, 38050]\n",
            "Same hobby with 16429 : [27812, 93248, 53003, 90161, 37574, 19970, 30012, 20532, 12523, 86858, 34532, 728, 55136, 34394, 26792, 33345, 66722, 93559, 15110, 85456, 9822, 74307, 39892, 34001, 90730, 87619, 92700, 35434, 54446, 47576, 85158, 79019, 92005, 1379, 12891, 96547, 57465, 19207, 45420, 26361, 68632, 68859, 84383, 88819, 78951, 69289, 1999, 14250, 53041, 82670]\n"
          ]
        }
      ]
    },
    {
      "cell_type": "markdown",
      "source": [
        "# Model Evaluation"
      ],
      "metadata": {
        "id": "9g6wy3q0A6nG"
      }
    },
    {
      "cell_type": "code",
      "source": [
        "dom1 = data[data['userid'] == 61377]['domisili'].values[0]\n",
        "# data['domisili'][data['domisili']== dom1].value_counts()\n",
        "data['userid'][data['domisili']== dom1]"
      ],
      "metadata": {
        "colab": {
          "base_uri": "https://localhost:8080/"
        },
        "id": "YGbwrfzgBANa",
        "outputId": "13b82425-7c71-45f3-8467-4d5c33ef8036"
      },
      "execution_count": null,
      "outputs": [
        {
          "output_type": "execute_result",
          "data": {
            "text/plain": [
              "0      61377\n",
              "66     27369\n",
              "245    57163\n",
              "448    14631\n",
              "494    95175\n",
              "697    81057\n",
              "Name: userid, dtype: int64"
            ]
          },
          "metadata": {},
          "execution_count": 13
        }
      ]
    },
    {
      "cell_type": "code",
      "source": [
        "dom2 = data[data['userid'] == 16429]['domisili'].values[0]\n",
        "# data['domisili'][data['domisili']== dom2].value_counts()\n",
        "data['userid'][data['domisili']== dom2]"
      ],
      "metadata": {
        "colab": {
          "base_uri": "https://localhost:8080/"
        },
        "id": "sLP9yPRFG4-B",
        "outputId": "034df120-03c4-48c6-a74e-45d81408a202"
      },
      "execution_count": null,
      "outputs": [
        {
          "output_type": "execute_result",
          "data": {
            "text/plain": [
              "1      16429\n",
              "76     31180\n",
              "103    50615\n",
              "309    57695\n",
              "337    55220\n",
              "483    28653\n",
              "540    83527\n",
              "667    26319\n",
              "720    32097\n",
              "790    35791\n",
              "812    12998\n",
              "874    38050\n",
              "Name: userid, dtype: int64"
            ]
          },
          "metadata": {},
          "execution_count": 11
        }
      ]
    },
    {
      "cell_type": "code",
      "source": [
        "data['domisili'].value_counts()"
      ],
      "metadata": {
        "colab": {
          "base_uri": "https://localhost:8080/"
        },
        "id": "yZf6ceUWRoli",
        "outputId": "13c7dd18-d9d1-4760-ffd1-4e42d5b630c3"
      },
      "execution_count": null,
      "outputs": [
        {
          "output_type": "execute_result",
          "data": {
            "text/plain": [
              "Kabupaten Sragen         19\n",
              "Kabupaten Lumajang       17\n",
              "Kota Batu                15\n",
              "Kota Surabaya            15\n",
              "Kota Bandung             14\n",
              "                         ..\n",
              "Kabupaten Garut           4\n",
              "Kabupaten Gresik          3\n",
              "Kota Yogyakarta           3\n",
              "Kabupaten Probolinggo     3\n",
              "Kota Jakarta              1\n",
              "Name: domisili, Length: 114, dtype: int64"
            ]
          },
          "metadata": {},
          "execution_count": 16
        }
      ]
    },
    {
      "cell_type": "code",
      "source": [
        "data['userid'][data['domisili']=='Kota Jakarta']"
      ],
      "metadata": {
        "colab": {
          "base_uri": "https://localhost:8080/"
        },
        "id": "brrG5SzdSAW1",
        "outputId": "60d8064a-d843-4d06-9d33-2598230983c6"
      },
      "execution_count": null,
      "outputs": [
        {
          "output_type": "execute_result",
          "data": {
            "text/plain": [
              "935    49413\n",
              "Name: userid, dtype: int64"
            ]
          },
          "metadata": {},
          "execution_count": 17
        }
      ]
    },
    {
      "cell_type": "code",
      "source": [
        "recommend_friends(49413)"
      ],
      "metadata": {
        "colab": {
          "base_uri": "https://localhost:8080/"
        },
        "id": "c8Os-ZOLSNwo",
        "outputId": "10771245-fdb0-4fc6-c48b-37b1a223da4c"
      },
      "execution_count": null,
      "outputs": [
        {
          "output_type": "stream",
          "name": "stdout",
          "text": [
            "49413 : {'instansi': 'PT Bank Mandiri Tbk', 'pekerjaan': 'Siswa', 'domisili': 'Kota Jakarta', 'hobi': 'Menari'}\n",
            "Friends Recommendation for 49413 : [85501, 39535, 25277, 58033, 98631, 31730, 86274, 30012, 38795, 65479, 23504, 30248, 48435, 30291, 24098, 38317, 97715, 13329, 24532, 92986, 78361, 90906, 18284, 67256, 78318, 36292, 51000, 82544, 60724, 41919, 15389, 76268, 39731, 55220, 7072, 89491, 60259, 76625, 91340, 6758, 93143, 37977, 4191, 63084, 84508, 75534, 67954, 52179, 65090, 30456, 92019, 57, 21764, 44374, 52732, 90178, 55088, 41835, 19758, 92400, 70927, 91589, 19316, 47848, 21036, 90730, 42715, 43408, 98773, 79967, 56868, 204, 26319, 24557, 59019, 38229, 83007, 77558, 26793, 73765, 96547, 69854, 78441, 84534, 53880, 85431, 93952, 19698, 41487, 75274, 43928, 8647, 82607, 94433, 7771, 9768, 34887, 83228, 19553, 79993, 34404, 72549, 84383, 27579, 49168, 23892, 53041, 42918, 18453, 67929, 80796, 5428, 29737]\n",
            "Same Agency/Institute with 49413 : [98631, 65479, 23504, 48435, 38317, 78361, 82544, 55220, 57, 21036, 42715, 204, 83007, 96547, 78441, 85431, 19553, 53041]\n",
            "Same occupation with 49413 : [39535, 25277, 58033, 31730, 30012, 38795, 23504, 30248, 30291, 24098, 92986, 90906, 78318, 51000, 41919, 76268, 39731, 7072, 60259, 91340, 6758, 93143, 37977, 4191, 75534, 52179, 30456, 21764, 52732, 90178, 55088, 41835, 19758, 91589, 19316, 21036, 90730, 98773, 56868, 26319, 24557, 77558, 26793, 73765, 69854, 84534, 93952, 41487, 75274, 8647, 82607, 94433, 7771, 9768, 72549, 84383, 49168, 23892, 42918]\n",
            "Same area with 49413 : []\n",
            "Same hobby with 49413 : [85501, 25277, 86274, 97715, 13329, 24532, 18284, 67256, 36292, 60724, 15389, 89491, 76625, 63084, 84508, 67954, 65090, 30456, 92019, 44374, 92400, 70927, 47848, 43408, 79967, 204, 59019, 38229, 53880, 19698, 41487, 43928, 34887, 83228, 79993, 34404, 27579, 18453, 67929, 80796, 5428, 29737]\n"
          ]
        }
      ]
    },
    {
      "cell_type": "markdown",
      "source": [
        "# Saving Model"
      ],
      "metadata": {
        "id": "XlaBSGuIS1W5"
      }
    },
    {
      "cell_type": "code",
      "source": [],
      "metadata": {
        "id": "-QE_xQOiS4nt"
      },
      "execution_count": null,
      "outputs": []
    }
  ]
}